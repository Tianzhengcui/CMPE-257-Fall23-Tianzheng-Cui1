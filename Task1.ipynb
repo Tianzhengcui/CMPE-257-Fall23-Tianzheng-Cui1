{
 "cells": [
  {
   "cell_type": "code",
   "execution_count": 83,
   "metadata": {},
   "outputs": [],
   "source": [
    "import numpy as np\n",
    "import pandas as pd\n",
    "from sklearn.linear_model import LinearRegression\n",
    "from sklearn.metrics import accuracy_score\n",
    "from sklearn.preprocessing import PolynomialFeatures\n",
    "from sklearn.pipeline import Pipeline\n",
    "import matplotlib.pyplot as plt"
   ]
  },
  {
   "cell_type": "markdown",
   "metadata": {},
   "source": [
    "## Task 1 – The synthetic dataset\n",
    "\n",
    "### Step 1:"
   ]
  },
  {
   "cell_type": "code",
   "execution_count": 84,
   "metadata": {},
   "outputs": [
    {
     "data": {
      "text/html": [
       "<div>\n",
       "<style scoped>\n",
       "    .dataframe tbody tr th:only-of-type {\n",
       "        vertical-align: middle;\n",
       "    }\n",
       "\n",
       "    .dataframe tbody tr th {\n",
       "        vertical-align: top;\n",
       "    }\n",
       "\n",
       "    .dataframe thead th {\n",
       "        text-align: right;\n",
       "    }\n",
       "</style>\n",
       "<table border=\"1\" class=\"dataframe\">\n",
       "  <thead>\n",
       "    <tr style=\"text-align: right;\">\n",
       "      <th></th>\n",
       "      <th>Train Error</th>\n",
       "      <th>Test Error</th>\n",
       "    </tr>\n",
       "  </thead>\n",
       "  <tbody>\n",
       "    <tr>\n",
       "      <th>0</th>\n",
       "      <td>0.4</td>\n",
       "      <td>0.41</td>\n",
       "    </tr>\n",
       "  </tbody>\n",
       "</table>\n",
       "</div>"
      ],
      "text/plain": [
       "   Train Error  Test Error\n",
       "0          0.4        0.41"
      ]
     },
     "execution_count": 84,
     "metadata": {},
     "output_type": "execute_result"
    }
   ],
   "source": [
    "train_data = pd.read_csv('synthetic_dataset.csv')\n",
    "test_data = pd.read_csv('synthetic_test_dataset.csv')\n",
    "\n",
    "reg = LinearRegression()\n",
    "X_train = train_data[['x1', 'x2']]\n",
    "y_train = train_data['y']\n",
    "\n",
    "X_test = test_data[['x1', 'x2']]\n",
    "y_test = test_data['y']\n",
    "\n",
    "reg.fit(X_train, y_train)\n",
    "\n",
    "yhat_train = reg.predict(X_train)\n",
    "yhat_test = reg.predict(X_test)\n",
    "train_err = 1 - accuracy_score(y_train, np.sign(yhat_train))\n",
    "test_err = 1 - accuracy_score(y_test, np.sign(yhat_test))\n",
    "pd.DataFrame({'Train Error': [train_err], 'Test Error': [test_err]})"
   ]
  },
  {
   "cell_type": "markdown",
   "metadata": {},
   "source": [
    "### Step 2:"
   ]
  },
  {
   "cell_type": "code",
   "execution_count": 85,
   "metadata": {},
   "outputs": [
    {
     "data": {
      "text/html": [
       "<div>\n",
       "<style scoped>\n",
       "    .dataframe tbody tr th:only-of-type {\n",
       "        vertical-align: middle;\n",
       "    }\n",
       "\n",
       "    .dataframe tbody tr th {\n",
       "        vertical-align: top;\n",
       "    }\n",
       "\n",
       "    .dataframe thead th {\n",
       "        text-align: right;\n",
       "    }\n",
       "</style>\n",
       "<table border=\"1\" class=\"dataframe\">\n",
       "  <thead>\n",
       "    <tr style=\"text-align: right;\">\n",
       "      <th></th>\n",
       "      <th>Train Error</th>\n",
       "      <th>Test Error</th>\n",
       "    </tr>\n",
       "  </thead>\n",
       "  <tbody>\n",
       "    <tr>\n",
       "      <th>0</th>\n",
       "      <td>0.22</td>\n",
       "      <td>0.278</td>\n",
       "    </tr>\n",
       "  </tbody>\n",
       "</table>\n",
       "</div>"
      ],
      "text/plain": [
       "   Train Error  Test Error\n",
       "0         0.22       0.278"
      ]
     },
     "execution_count": 85,
     "metadata": {},
     "output_type": "execute_result"
    }
   ],
   "source": [
    "model2 = Pipeline([('poly', PolynomialFeatures(degree=2)),\n",
    "                   ('linear', LinearRegression(fit_intercept=False))])\n",
    "model2.fit(X_train, y_train)\n",
    "yhat_train2 = model2.predict(X_train)\n",
    "yhat_test2 = model2.predict(X_test)\n",
    "\n",
    "train_err2 = 1 - accuracy_score(y_train, np.sign(yhat_train2))\n",
    "test_err2 = 1 - accuracy_score(y_test, np.sign(yhat_test2))\n",
    "pd.DataFrame({'Train Error': [train_err2], 'Test Error': [test_err2]})"
   ]
  },
  {
   "cell_type": "code",
   "execution_count": 86,
   "metadata": {},
   "outputs": [
    {
     "data": {
      "text/html": [
       "<div>\n",
       "<style scoped>\n",
       "    .dataframe tbody tr th:only-of-type {\n",
       "        vertical-align: middle;\n",
       "    }\n",
       "\n",
       "    .dataframe tbody tr th {\n",
       "        vertical-align: top;\n",
       "    }\n",
       "\n",
       "    .dataframe thead th {\n",
       "        text-align: right;\n",
       "    }\n",
       "</style>\n",
       "<table border=\"1\" class=\"dataframe\">\n",
       "  <thead>\n",
       "    <tr style=\"text-align: right;\">\n",
       "      <th></th>\n",
       "      <th>Train Error</th>\n",
       "      <th>Test Error</th>\n",
       "    </tr>\n",
       "  </thead>\n",
       "  <tbody>\n",
       "    <tr>\n",
       "      <th>0</th>\n",
       "      <td>0.04</td>\n",
       "      <td>0.198</td>\n",
       "    </tr>\n",
       "  </tbody>\n",
       "</table>\n",
       "</div>"
      ],
      "text/plain": [
       "   Train Error  Test Error\n",
       "0         0.04       0.198"
      ]
     },
     "execution_count": 86,
     "metadata": {},
     "output_type": "execute_result"
    }
   ],
   "source": [
    "model3 = Pipeline([('poly', PolynomialFeatures(degree=3)),\n",
    "                   ('linear', LinearRegression(fit_intercept=False))])\n",
    "model3.fit(X_train, y_train)\n",
    "yhat_train3 = model3.predict(X_train)\n",
    "yhat_test3 = model3.predict(X_test)\n",
    "\n",
    "train_err3 = 1 - accuracy_score(y_train, np.sign(yhat_train3))\n",
    "test_err3 = 1 - accuracy_score(y_test, np.sign(yhat_test3))\n",
    "pd.DataFrame({'Train Error': [train_err3], 'Test Error': [test_err3]})"
   ]
  },
  {
   "cell_type": "code",
   "execution_count": 87,
   "metadata": {},
   "outputs": [
    {
     "data": {
      "text/html": [
       "<div>\n",
       "<style scoped>\n",
       "    .dataframe tbody tr th:only-of-type {\n",
       "        vertical-align: middle;\n",
       "    }\n",
       "\n",
       "    .dataframe tbody tr th {\n",
       "        vertical-align: top;\n",
       "    }\n",
       "\n",
       "    .dataframe thead th {\n",
       "        text-align: right;\n",
       "    }\n",
       "</style>\n",
       "<table border=\"1\" class=\"dataframe\">\n",
       "  <thead>\n",
       "    <tr style=\"text-align: right;\">\n",
       "      <th></th>\n",
       "      <th>Train Error</th>\n",
       "      <th>Test Error</th>\n",
       "    </tr>\n",
       "  </thead>\n",
       "  <tbody>\n",
       "    <tr>\n",
       "      <th>0</th>\n",
       "      <td>0.02</td>\n",
       "      <td>0.204</td>\n",
       "    </tr>\n",
       "  </tbody>\n",
       "</table>\n",
       "</div>"
      ],
      "text/plain": [
       "   Train Error  Test Error\n",
       "0         0.02       0.204"
      ]
     },
     "execution_count": 87,
     "metadata": {},
     "output_type": "execute_result"
    }
   ],
   "source": [
    "model4 = Pipeline([('poly', PolynomialFeatures(degree=4)),\n",
    "                   ('linear', LinearRegression(fit_intercept=False))])\n",
    "model4.fit(X_train, y_train)\n",
    "yhat_train4 = model4.predict(X_train)\n",
    "yhat_test4 = model4.predict(X_test)\n",
    "\n",
    "train_err4 = 1 - accuracy_score(y_train, np.sign(yhat_train4))\n",
    "test_err4 = 1 - accuracy_score(y_test, np.sign(yhat_test4))\n",
    "pd.DataFrame({'Train Error': [train_err4], 'Test Error': [test_err4]})"
   ]
  },
  {
   "cell_type": "markdown",
   "metadata": {},
   "source": [
    "### Step 3:"
   ]
  },
  {
   "cell_type": "code",
   "execution_count": 88,
   "metadata": {},
   "outputs": [
    {
     "data": {
      "image/png": "[encoded data removed]",
      "text/plain": [
       "<Figure size 640x480 with 1 Axes>"
      ]
     },
     "metadata": {},
     "output_type": "display_data"
    }
   ],
   "source": [
    "orders = [1, 2, 3, 4]\n",
    "plt.plot(orders, [train_err, train_err2, train_err3, train_err4])\n",
    "plt.plot(orders, [test_err, test_err2, test_err3, test_err4])\n",
    "plt.xlabel('order')\n",
    "plt.ylabel('error')\n",
    "plt.legend(['train error', 'test error'])\n",
    "plt.show()"
   ]
  },
  {
   "cell_type": "markdown",
   "metadata": {},
   "source": [
    "### Step 4:\n",
    "\n",
    "From the result we can observe that as the order of the polynomial increases, the training error decreases a lot, but the test error does not decrease significantly when the order larger than 2. This is because model overfiting occurred. I will chose quadratic model, because the test error does not decrease significantly when the order larger than 2. We can also plot the model's decision boundary, which show a quadratic model fitting good."
   ]
  },
  {
   "cell_type": "code",
   "execution_count": 107,
   "metadata": {},
   "outputs": [
    {
     "data": {
      "image/png": "[encoded data removed]",
      "text/plain": [
       "<Figure size 640x480 with 1 Axes>"
      ]
     },
     "metadata": {},
     "output_type": "display_data"
    }
   ],
   "source": [
    "from sklearn.inspection import DecisionBoundaryDisplay\n",
    "x1, x2 = np.meshgrid(np.linspace(-10, 10, 100), np.linspace(-10, 10, 100))\n",
    "grid = np.vstack([x1.ravel(), x2.ravel()]).T\n",
    "y_pred = model2.predict(pd.DataFrame({'x1': grid[:,0], 'x2': grid[:,1]}))\n",
    "y_pred = np.reshape(y_pred, x1.shape)\n",
    "display = DecisionBoundaryDisplay(xx0=x1, xx1=x2, response=np.sign(y_pred))\n",
    "display.plot()\n",
    "plt.plot(X_train.loc[y_train == 1, 'x1'], X_train.loc[y_train == 1, 'x2'], '.')\n",
    "plt.plot(X_train.loc[y_train == -1, 'x1'], X_train.loc[y_train == -1, 'x2'], '+')\n",
    "plt.show()"
   ]
  }
 ],
 "metadata": {
  "kernelspec": {
   "display_name": "Python 3",
   "language": "python",
   "name": "python3"
  },
  "language_info": {
   "codemirror_mode": {
    "name": "ipython",
    "version": 3
   },
   "file_extension": ".py",
   "mimetype": "text/x-python",
   "name": "python",
   "nbconvert_exporter": "python",
   "pygments_lexer": "ipython3",
   "version": "3.10.11"
  }
 },
 "nbformat": 4,
 "nbformat_minor": 2
}
