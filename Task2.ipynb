{
 "cells": [
  {
   "cell_type": "markdown",
   "id": "607c066a",
   "metadata": {},
   "source": [
    "## Task2"
   ]
  },
  {
   "cell_type": "code",
   "execution_count": 1,
   "id": "1506a4ef",
   "metadata": {},
   "outputs": [],
   "source": [
    "import pandas as pd\n",
    "from sklearn.model_selection import train_test_split\n",
    "from sklearn.linear_model import LogisticRegression\n",
    "from sklearn import tree\n",
    "from sklearn.ensemble import RandomForestClassifier\n",
    "from sklearn.svm import SVC\n",
    "from sklearn import metrics\n",
    "\n",
    "import matplotlib.pyplot as plt\n",
    "import seaborn as sns"
   ]
  },
  {
   "cell_type": "code",
   "execution_count": 2,
   "id": "093e4222",
   "metadata": {},
   "outputs": [],
   "source": [
    "# Load Dataset\n",
    "bc = pd.read_csv('breast_cancer_dataset_preprocessed.csv')"
   ]
  },
  {
   "cell_type": "code",
   "execution_count": 3,
   "id": "157dbb3f",
   "metadata": {},
   "outputs": [
    {
     "data": {
      "text/html": [
       "<div>\n",
       "<style scoped>\n",
       "    .dataframe tbody tr th:only-of-type {\n",
       "        vertical-align: middle;\n",
       "    }\n",
       "\n",
       "    .dataframe tbody tr th {\n",
       "        vertical-align: top;\n",
       "    }\n",
       "\n",
       "    .dataframe thead th {\n",
       "        text-align: right;\n",
       "    }\n",
       "</style>\n",
       "<table border=\"1\" class=\"dataframe\">\n",
       "  <thead>\n",
       "    <tr style=\"text-align: right;\">\n",
       "      <th></th>\n",
       "      <th>x1</th>\n",
       "      <th>x2</th>\n",
       "      <th>x3</th>\n",
       "      <th>x4</th>\n",
       "      <th>x5</th>\n",
       "      <th>x6</th>\n",
       "      <th>x7</th>\n",
       "      <th>x8</th>\n",
       "      <th>y</th>\n",
       "    </tr>\n",
       "  </thead>\n",
       "  <tbody>\n",
       "    <tr>\n",
       "      <th>0</th>\n",
       "      <td>4.147954</td>\n",
       "      <td>-4.443183</td>\n",
       "      <td>-0.068966</td>\n",
       "      <td>4.035033</td>\n",
       "      <td>0.817574</td>\n",
       "      <td>-0.476277</td>\n",
       "      <td>0.553593</td>\n",
       "      <td>1.268819</td>\n",
       "      <td>M</td>\n",
       "    </tr>\n",
       "    <tr>\n",
       "      <th>1</th>\n",
       "      <td>-4.595154</td>\n",
       "      <td>-2.684882</td>\n",
       "      <td>1.084110</td>\n",
       "      <td>-0.403925</td>\n",
       "      <td>0.410287</td>\n",
       "      <td>0.687051</td>\n",
       "      <td>0.284184</td>\n",
       "      <td>0.260968</td>\n",
       "      <td>B</td>\n",
       "    </tr>\n",
       "    <tr>\n",
       "      <th>2</th>\n",
       "      <td>-0.755349</td>\n",
       "      <td>-2.318373</td>\n",
       "      <td>-1.938275</td>\n",
       "      <td>0.279953</td>\n",
       "      <td>0.241712</td>\n",
       "      <td>3.409801</td>\n",
       "      <td>0.092694</td>\n",
       "      <td>1.040391</td>\n",
       "      <td>M</td>\n",
       "    </tr>\n",
       "    <tr>\n",
       "      <th>3</th>\n",
       "      <td>-0.453863</td>\n",
       "      <td>0.197572</td>\n",
       "      <td>-1.037060</td>\n",
       "      <td>0.344384</td>\n",
       "      <td>0.070598</td>\n",
       "      <td>-0.822546</td>\n",
       "      <td>-0.993352</td>\n",
       "      <td>-0.946259</td>\n",
       "      <td>B</td>\n",
       "    </tr>\n",
       "    <tr>\n",
       "      <th>4</th>\n",
       "      <td>-3.278680</td>\n",
       "      <td>-0.792025</td>\n",
       "      <td>-0.736833</td>\n",
       "      <td>-1.621295</td>\n",
       "      <td>-0.085459</td>\n",
       "      <td>-0.824324</td>\n",
       "      <td>-0.107042</td>\n",
       "      <td>-0.291755</td>\n",
       "      <td>B</td>\n",
       "    </tr>\n",
       "  </tbody>\n",
       "</table>\n",
       "</div>"
      ],
      "text/plain": [
       "         x1        x2        x3        x4        x5        x6        x7  \\\n",
       "0  4.147954 -4.443183 -0.068966  4.035033  0.817574 -0.476277  0.553593   \n",
       "1 -4.595154 -2.684882  1.084110 -0.403925  0.410287  0.687051  0.284184   \n",
       "2 -0.755349 -2.318373 -1.938275  0.279953  0.241712  3.409801  0.092694   \n",
       "3 -0.453863  0.197572 -1.037060  0.344384  0.070598 -0.822546 -0.993352   \n",
       "4 -3.278680 -0.792025 -0.736833 -1.621295 -0.085459 -0.824324 -0.107042   \n",
       "\n",
       "         x8  y  \n",
       "0  1.268819  M  \n",
       "1  0.260968  B  \n",
       "2  1.040391  M  \n",
       "3 -0.946259  B  \n",
       "4 -0.291755  B  "
      ]
     },
     "execution_count": 3,
     "metadata": {},
     "output_type": "execute_result"
    }
   ],
   "source": [
    "bc.head()"
   ]
  },
  {
   "cell_type": "code",
   "execution_count": 4,
   "id": "8662d96a",
   "metadata": {},
   "outputs": [
    {
     "data": {
      "text/plain": [
       "B    239\n",
       "M    142\n",
       "Name: y, dtype: int64"
      ]
     },
     "execution_count": 4,
     "metadata": {},
     "output_type": "execute_result"
    }
   ],
   "source": [
    "bc['y'].value_counts()"
   ]
  },
  {
   "cell_type": "markdown",
   "id": "c6005ecf",
   "metadata": {},
   "source": [
    "In the data set, there are 142 cases of malignant cancer and 239 cases of benign cancer. The data set is an imbalanced data set. In reality, we prefer to accurately identify malignant cancers, so here malignant cancer ‘M’ is positive and benign cancer ‘B’ is negative."
   ]
  },
  {
   "cell_type": "markdown",
   "id": "d4dbcfa5",
   "metadata": {},
   "source": [
    "### Splitting Dataset"
   ]
  },
  {
   "cell_type": "markdown",
   "id": "d87da5ca",
   "metadata": {},
   "source": [
    "Split the WDBC data set into a training set and a test set according to a ratio of 3:1 and random shuffling."
   ]
  },
  {
   "cell_type": "code",
   "execution_count": 5,
   "id": "da100507",
   "metadata": {},
   "outputs": [],
   "source": [
    "# Splitting dataset into x and y\n",
    "x = bc.drop('y', axis=1)\n",
    "y = bc['y']"
   ]
  },
  {
   "cell_type": "code",
   "execution_count": 6,
   "id": "2fdf6d2f",
   "metadata": {},
   "outputs": [],
   "source": [
    "# Splitting dataset into training and testing\n",
    "# SJSU ID: 013787930\n",
    "x_train, x_test,  y_train, y_test = train_test_split(x,y,random_state = 930,shuffle=True, test_size=0.25)"
   ]
  },
  {
   "cell_type": "markdown",
   "id": "d9e12c67",
   "metadata": {},
   "source": [
    "Predicting cancer type is a binary classification problem. To find the best performing model, I built logistic regression model, decision tree model, random forest model and support vector machine model. And comprehensively use indicators to evaluate performance including Accuracy, Precision, Recall (sensitivity), Specificity and F1 Score to select the best model."
   ]
  },
  {
   "cell_type": "markdown",
   "id": "0810d002",
   "metadata": {},
   "source": [
    "### Logistic Regression"
   ]
  },
  {
   "cell_type": "markdown",
   "id": "04181676",
   "metadata": {},
   "source": [
    "The logistic regression model is a generalized linear regression analysis model, which is similar to the offline regression model, but logistic regression is a regression model that solves classification problems.\n"
   ]
  },
  {
   "cell_type": "code",
   "execution_count": 7,
   "id": "f51c34f2",
   "metadata": {},
   "outputs": [
    {
     "data": {
      "text/plain": [
       "LogisticRegression()"
      ]
     },
     "execution_count": 7,
     "metadata": {},
     "output_type": "execute_result"
    }
   ],
   "source": [
    "lr = LogisticRegression()\n",
    "lr.fit(x_train,y_train)"
   ]
  },
  {
   "cell_type": "code",
   "execution_count": 8,
   "id": "739b533e",
   "metadata": {},
   "outputs": [],
   "source": [
    "y_pred_test = lr.predict(x_test)"
   ]
  },
  {
   "cell_type": "code",
   "execution_count": 9,
   "id": "da272485",
   "metadata": {},
   "outputs": [],
   "source": [
    "cm_lr = metrics.confusion_matrix(y_test,y_pred_test)"
   ]
  },
  {
   "cell_type": "code",
   "execution_count": 10,
   "id": "310fcbfd",
   "metadata": {},
   "outputs": [
    {
     "data": {
      "text/plain": [
       "Text(51.0, 0.5, 'Actual')"
      ]
     },
     "execution_count": 10,
     "metadata": {},
     "output_type": "execute_result"
    },
    {
     "data": {
      "image/png": "[encoded data removed]",
      "text/plain": [
       "<Figure size 576x432 with 2 Axes>"
      ]
     },
     "metadata": {
      "needs_background": "light"
     },
     "output_type": "display_data"
    }
   ],
   "source": [
    "plt.figure(figsize=(8,6))\n",
    "sns.heatmap(cm_lr,annot=True,fmt='d')\n",
    "plt.xlabel('Predicted')\n",
    "plt.ylabel('Actual')"
   ]
  },
  {
   "cell_type": "code",
   "execution_count": 11,
   "id": "444b684b",
   "metadata": {},
   "outputs": [],
   "source": [
    "TP_cm_lr = int(cm_lr[1,1])\n",
    "FP_cm_lr = int(cm_lr[0,1])\n",
    "FN_cm_lr = int(cm_lr[1,0])\n",
    "TN_cm_lr = int(cm_lr[0,0])"
   ]
  },
  {
   "cell_type": "code",
   "execution_count": 12,
   "id": "ed732ec3",
   "metadata": {},
   "outputs": [
    {
     "name": "stdout",
     "output_type": "stream",
     "text": [
      "Accuracy of Logstic Regression: 97.9%\n"
     ]
    }
   ],
   "source": [
    "# Accuracy\n",
    "acc_lr = (TP_cm_lr+TN_cm_lr)/(TP_cm_lr+FP_cm_lr+FN_cm_lr+TN_cm_lr)\n",
    "print(f\"Accuracy of Logstic Regression: {round(acc_lr*100, 1)}%\")"
   ]
  },
  {
   "cell_type": "code",
   "execution_count": 13,
   "id": "908ee443",
   "metadata": {},
   "outputs": [
    {
     "name": "stdout",
     "output_type": "stream",
     "text": [
      "Precision of Logstic Regression: 92.9%\n"
     ]
    }
   ],
   "source": [
    "# Precision\n",
    "prec_lr = TP_cm_lr/(TP_cm_lr+FP_cm_lr)\n",
    "print(f\"Precision of Logstic Regression: {round(prec_lr*100, 1)}%\")"
   ]
  },
  {
   "cell_type": "code",
   "execution_count": 14,
   "id": "86c0cb25",
   "metadata": {},
   "outputs": [
    {
     "name": "stdout",
     "output_type": "stream",
     "text": [
      "Recall(Sensitivity) of Logstic Regression: 100.0%\n"
     ]
    }
   ],
   "source": [
    "# Recall(sensitivity)\n",
    "sens_lr = TP_cm_lr/(TP_cm_lr+FN_cm_lr)\n",
    "print(f\"Recall(Sensitivity) of Logstic Regression: {round(sens_lr*100, 1)}%\")"
   ]
  },
  {
   "cell_type": "code",
   "execution_count": 15,
   "id": "90c733f1",
   "metadata": {},
   "outputs": [
    {
     "name": "stdout",
     "output_type": "stream",
     "text": [
      "Specificity of Logstic Regression: 97.1%\n"
     ]
    }
   ],
   "source": [
    "# Specificity\n",
    "spec_lr = TN_cm_lr/(TN_cm_lr+FP_cm_lr)\n",
    "print(f\"Specificity of Logstic Regression: {round(spec_lr*100, 1)}%\")"
   ]
  },
  {
   "cell_type": "code",
   "execution_count": 16,
   "id": "0c3d8d33",
   "metadata": {},
   "outputs": [
    {
     "name": "stdout",
     "output_type": "stream",
     "text": [
      "F1 Score of Logstic Regression: 96.3%\n"
     ]
    }
   ],
   "source": [
    "f1_lr = 2*prec_lr*sens_lr/(prec_lr+sens_lr)\n",
    "print(f\"F1 Score of Logstic Regression: {round(f1_lr*100, 1)}%\")"
   ]
  },
  {
   "cell_type": "markdown",
   "id": "9893b2f2",
   "metadata": {},
   "source": [
    "### Decision Tree"
   ]
  },
  {
   "cell_type": "markdown",
   "id": "fa1b2a02",
   "metadata": {},
   "source": [
    "The decision tree model is a model that splits features to build a tree for classification."
   ]
  },
  {
   "cell_type": "code",
   "execution_count": 17,
   "id": "f108c304",
   "metadata": {},
   "outputs": [
    {
     "data": {
      "text/plain": [
       "DecisionTreeClassifier()"
      ]
     },
     "execution_count": 17,
     "metadata": {},
     "output_type": "execute_result"
    }
   ],
   "source": [
    "dt = tree.DecisionTreeClassifier(criterion=\"gini\",splitter=\"best\")\n",
    "dt.fit(x_train,y_train)"
   ]
  },
  {
   "cell_type": "code",
   "execution_count": 18,
   "id": "2012ce7c",
   "metadata": {},
   "outputs": [],
   "source": [
    "y_hat_dt = dt.predict(x_test)"
   ]
  },
  {
   "cell_type": "code",
   "execution_count": 19,
   "id": "3fbb4a10",
   "metadata": {},
   "outputs": [],
   "source": [
    "cm_dt = metrics.confusion_matrix(y_test,y_hat_dt)"
   ]
  },
  {
   "cell_type": "code",
   "execution_count": 20,
   "id": "333bd91d",
   "metadata": {},
   "outputs": [
    {
     "data": {
      "text/plain": [
       "Text(51.0, 0.5, 'Actual')"
      ]
     },
     "execution_count": 20,
     "metadata": {},
     "output_type": "execute_result"
    },
    {
     "data": {
      "image/png": "[encoded data removed]",
      "text/plain": [
       "<Figure size 576x432 with 2 Axes>"
      ]
     },
     "metadata": {
      "needs_background": "light"
     },
     "output_type": "display_data"
    }
   ],
   "source": [
    "plt.figure(figsize=(8,6))\n",
    "sns.heatmap(cm_dt,annot=True,fmt='d')\n",
    "plt.xlabel('Predicted')\n",
    "plt.ylabel('Actual')"
   ]
  },
  {
   "cell_type": "code",
   "execution_count": 21,
   "id": "345ff383",
   "metadata": {},
   "outputs": [
    {
     "data": {
      "text/plain": [
       "DecisionTreeClassifier(criterion='entropy')"
      ]
     },
     "execution_count": 21,
     "metadata": {},
     "output_type": "execute_result"
    }
   ],
   "source": [
    "dt1 = tree.DecisionTreeClassifier(criterion=\"entropy\",splitter=\"best\")\n",
    "dt1.fit(x_train,y_train)"
   ]
  },
  {
   "cell_type": "code",
   "execution_count": 22,
   "id": "e5c621e0",
   "metadata": {},
   "outputs": [],
   "source": [
    "y_hat_dt1 = dt1.predict(x_test)"
   ]
  },
  {
   "cell_type": "code",
   "execution_count": 23,
   "id": "a52cc75b",
   "metadata": {},
   "outputs": [],
   "source": [
    "cm_dt1 = metrics.confusion_matrix(y_test,y_hat_dt1)"
   ]
  },
  {
   "cell_type": "code",
   "execution_count": 24,
   "id": "2e25d4a9",
   "metadata": {},
   "outputs": [
    {
     "data": {
      "text/plain": [
       "Text(51.0, 0.5, 'Actual')"
      ]
     },
     "execution_count": 24,
     "metadata": {},
     "output_type": "execute_result"
    },
    {
     "data": {
      "image/png": "[encoded data removed]",
      "text/plain": [
       "<Figure size 576x432 with 2 Axes>"
      ]
     },
     "metadata": {
      "needs_background": "light"
     },
     "output_type": "display_data"
    }
   ],
   "source": [
    "plt.figure(figsize=(8,6))\n",
    "sns.heatmap(cm_dt1,annot=True,fmt='d')\n",
    "plt.xlabel('Predicted')\n",
    "plt.ylabel('Actual')"
   ]
  },
  {
   "cell_type": "markdown",
   "id": "f7156a4d",
   "metadata": {},
   "source": [
    "Since the dimensionality of our data is relatively low and relatively clear, there is no difference in the method of calculating impurity using the Gini coefficient or information entropy."
   ]
  },
  {
   "cell_type": "code",
   "execution_count": 25,
   "id": "e81425ca",
   "metadata": {},
   "outputs": [],
   "source": [
    "TP_cm_dt = int(cm_dt[1,1])\n",
    "FP_cm_dt = int(cm_dt[0,1])\n",
    "FN_cm_dt = int(cm_dt[1,0])\n",
    "TN_cm_dt = int(cm_dt[0,0])"
   ]
  },
  {
   "cell_type": "code",
   "execution_count": 26,
   "id": "dc620591",
   "metadata": {},
   "outputs": [
    {
     "name": "stdout",
     "output_type": "stream",
     "text": [
      "Accuracy of Decision Tree: 90.6%\n"
     ]
    }
   ],
   "source": [
    "# Accuracy\n",
    "acc_dt = (TP_cm_dt+TN_cm_dt)/(TP_cm_dt+FP_cm_dt+FN_cm_dt+TN_cm_dt)\n",
    "print(f\"Accuracy of Decision Tree: {round(acc_dt*100, 1)}%\")"
   ]
  },
  {
   "cell_type": "code",
   "execution_count": 27,
   "id": "76e518d9",
   "metadata": {},
   "outputs": [
    {
     "name": "stdout",
     "output_type": "stream",
     "text": [
      "Precision of Decision Tree: 81.5%\n"
     ]
    }
   ],
   "source": [
    "# Precision\n",
    "prec_dt = TP_cm_dt/(TP_cm_dt+FP_cm_dt)\n",
    "print(f\"Precision of Decision Tree: {round(prec_dt*100, 1)}%\")"
   ]
  },
  {
   "cell_type": "code",
   "execution_count": 28,
   "id": "08e43813",
   "metadata": {},
   "outputs": [
    {
     "name": "stdout",
     "output_type": "stream",
     "text": [
      "Recall(Sensitivity) of Decision Tree: 84.6%\n"
     ]
    }
   ],
   "source": [
    "# Recall(sensitivity)\n",
    "sens_dt = TP_cm_dt/(TP_cm_dt+FN_cm_dt)\n",
    "print(f\"Recall(Sensitivity) of Decision Tree: {round(sens_dt*100, 1)}%\")"
   ]
  },
  {
   "cell_type": "code",
   "execution_count": 29,
   "id": "934df97c",
   "metadata": {},
   "outputs": [
    {
     "name": "stdout",
     "output_type": "stream",
     "text": [
      "Specificity of Decision Tree: 92.9%\n"
     ]
    }
   ],
   "source": [
    "# Specificity\n",
    "spec_dt = TN_cm_dt/(TN_cm_dt+FP_cm_dt)\n",
    "print(f\"Specificity of Decision Tree: {round(spec_dt*100, 1)}%\")"
   ]
  },
  {
   "cell_type": "code",
   "execution_count": 30,
   "id": "06b17094",
   "metadata": {},
   "outputs": [
    {
     "name": "stdout",
     "output_type": "stream",
     "text": [
      "F1 Score of Decision Tree: 83.0%\n"
     ]
    }
   ],
   "source": [
    "f1_dt = 2*prec_dt*sens_dt/(prec_dt+sens_dt)\n",
    "print(f\"F1 Score of Decision Tree: {round(f1_dt*100, 1)}%\")"
   ]
  },
  {
   "cell_type": "markdown",
   "id": "15195edb",
   "metadata": {},
   "source": [
    "### Random Forest"
   ]
  },
  {
   "cell_type": "markdown",
   "id": "b9a30218",
   "metadata": {},
   "source": [
    "Random forest is a model for building multiple trees."
   ]
  },
  {
   "cell_type": "code",
   "execution_count": 31,
   "id": "8aa10e69",
   "metadata": {},
   "outputs": [
    {
     "data": {
      "text/plain": [
       "RandomForestClassifier()"
      ]
     },
     "execution_count": 31,
     "metadata": {},
     "output_type": "execute_result"
    }
   ],
   "source": [
    "rf = RandomForestClassifier()\n",
    "rf.fit(x_train,y_train)"
   ]
  },
  {
   "cell_type": "code",
   "execution_count": 32,
   "id": "cc57f951",
   "metadata": {},
   "outputs": [],
   "source": [
    "y_hat_rf = rf.predict(x_test)"
   ]
  },
  {
   "cell_type": "code",
   "execution_count": 33,
   "id": "7a1541f7",
   "metadata": {},
   "outputs": [],
   "source": [
    "cm_rf = metrics.confusion_matrix(y_test,y_hat_rf)"
   ]
  },
  {
   "cell_type": "code",
   "execution_count": 34,
   "id": "dbb358a9",
   "metadata": {},
   "outputs": [
    {
     "data": {
      "text/plain": [
       "Text(51.0, 0.5, 'Actual')"
      ]
     },
     "execution_count": 34,
     "metadata": {},
     "output_type": "execute_result"
    },
    {
     "data": {
      "image/png": "[encoded data removed]",
      "text/plain": [
       "<Figure size 576x432 with 2 Axes>"
      ]
     },
     "metadata": {
      "needs_background": "light"
     },
     "output_type": "display_data"
    }
   ],
   "source": [
    "plt.figure(figsize=(8,6))\n",
    "sns.heatmap(cm_rf,annot=True,fmt='d')\n",
    "plt.xlabel('Predicted')\n",
    "plt.ylabel('Actual')"
   ]
  },
  {
   "cell_type": "code",
   "execution_count": 35,
   "id": "62cf41a6",
   "metadata": {},
   "outputs": [],
   "source": [
    "TP_cm_rf = int(cm_rf[1,1])\n",
    "FP_cm_rf = int(cm_rf[0,1])\n",
    "FN_cm_rf = int(cm_rf[1,0])\n",
    "TN_cm_rf = int(cm_rf[0,0])"
   ]
  },
  {
   "cell_type": "code",
   "execution_count": 36,
   "id": "2d15ff7f",
   "metadata": {},
   "outputs": [
    {
     "name": "stdout",
     "output_type": "stream",
     "text": [
      "Accuracy of Random Forest: 90.6%\n"
     ]
    }
   ],
   "source": [
    "# Accuracy\n",
    "acc_rf = (TP_cm_rf+TN_cm_rf)/(TP_cm_rf+FP_cm_rf+FN_cm_rf+TN_cm_rf)\n",
    "print(f\"Accuracy of Random Forest: {round(acc_rf*100, 1)}%\")"
   ]
  },
  {
   "cell_type": "code",
   "execution_count": 37,
   "id": "4d71b95b",
   "metadata": {},
   "outputs": [
    {
     "name": "stdout",
     "output_type": "stream",
     "text": [
      "Precision of Random Forest: 79.3%\n"
     ]
    }
   ],
   "source": [
    "# Precision\n",
    "prec_rf = TP_cm_rf/(TP_cm_rf+FP_cm_rf)\n",
    "print(f\"Precision of Random Forest: {round(prec_rf*100, 1)}%\")"
   ]
  },
  {
   "cell_type": "code",
   "execution_count": 38,
   "id": "821ebcbf",
   "metadata": {},
   "outputs": [
    {
     "name": "stdout",
     "output_type": "stream",
     "text": [
      "Recall(Sensitivity) of Random Forest: 88.5%\n"
     ]
    }
   ],
   "source": [
    "# Recall(sensitivity)\n",
    "sens_rf = TP_cm_rf/(TP_cm_rf+FN_cm_rf)\n",
    "print(f\"Recall(Sensitivity) of Random Forest: {round(sens_rf*100, 1)}%\")"
   ]
  },
  {
   "cell_type": "code",
   "execution_count": 39,
   "id": "e943c22c",
   "metadata": {},
   "outputs": [
    {
     "name": "stdout",
     "output_type": "stream",
     "text": [
      "Specificity of Random Forest: 91.4%\n"
     ]
    }
   ],
   "source": [
    "# Specificity\n",
    "spec_rf = TN_cm_rf/(TN_cm_rf+FP_cm_rf)\n",
    "print(f\"Specificity of Random Forest: {round(spec_rf*100, 1)}%\")"
   ]
  },
  {
   "cell_type": "code",
   "execution_count": 40,
   "id": "37c8c3b0",
   "metadata": {},
   "outputs": [
    {
     "name": "stdout",
     "output_type": "stream",
     "text": [
      "F1 Score of Random Forest: 83.6%\n"
     ]
    }
   ],
   "source": [
    "f1_rf = 2*prec_rf*sens_rf/(prec_rf+sens_rf)\n",
    "print(f\"F1 Score of Random Forest: {round(f1_rf*100, 1)}%\")"
   ]
  },
  {
   "cell_type": "markdown",
   "id": "d810e2fc",
   "metadata": {},
   "source": [
    "### Support Vector Machines(SVM)"
   ]
  },
  {
   "cell_type": "markdown",
   "id": "73c9e607",
   "metadata": {},
   "source": [
    "The SVM model is suitable for classifying nonlinear data. Kernel functions include polynomial kernel functions, Gaussian kernel functions, SIgmoid kernel functions, etc."
   ]
  },
  {
   "cell_type": "code",
   "execution_count": 41,
   "id": "86c88e71",
   "metadata": {},
   "outputs": [
    {
     "data": {
      "text/plain": [
       "SVC(kernel='poly')"
      ]
     },
     "execution_count": 41,
     "metadata": {},
     "output_type": "execute_result"
    }
   ],
   "source": [
    "svm_poly = SVC(kernel=\"poly\")\n",
    "svm_poly.fit(x_train,y_train)"
   ]
  },
  {
   "cell_type": "code",
   "execution_count": 42,
   "id": "fea0b23c",
   "metadata": {},
   "outputs": [],
   "source": [
    "y_hat_svm = svm_poly.predict(x_test)"
   ]
  },
  {
   "cell_type": "code",
   "execution_count": 43,
   "id": "e8d63915",
   "metadata": {},
   "outputs": [],
   "source": [
    "cm_svm = metrics.confusion_matrix(y_test,y_hat_svm)"
   ]
  },
  {
   "cell_type": "code",
   "execution_count": 44,
   "id": "89dc8f5e",
   "metadata": {},
   "outputs": [
    {
     "data": {
      "text/plain": [
       "Text(51.0, 0.5, 'Actual')"
      ]
     },
     "execution_count": 44,
     "metadata": {},
     "output_type": "execute_result"
    },
    {
     "data": {
      "image/png": "[encoded data removed]",
      "text/plain": [
       "<Figure size 576x432 with 2 Axes>"
      ]
     },
     "metadata": {
      "needs_background": "light"
     },
     "output_type": "display_data"
    }
   ],
   "source": [
    "plt.figure(figsize=(8,6))\n",
    "sns.heatmap(cm_svm,annot=True,fmt='d')\n",
    "plt.xlabel('Predicted')\n",
    "plt.ylabel('Actual')"
   ]
  },
  {
   "cell_type": "code",
   "execution_count": 45,
   "id": "769bfca1",
   "metadata": {},
   "outputs": [
    {
     "data": {
      "text/plain": [
       "SVC()"
      ]
     },
     "execution_count": 45,
     "metadata": {},
     "output_type": "execute_result"
    }
   ],
   "source": [
    "svm_rbf = SVC(kernel=\"rbf\")\n",
    "svm_rbf.fit(x_train,y_train)"
   ]
  },
  {
   "cell_type": "code",
   "execution_count": 46,
   "id": "2f6ca051",
   "metadata": {},
   "outputs": [],
   "source": [
    "y_hat_svm_rbf = svm_rbf.predict(x_test)"
   ]
  },
  {
   "cell_type": "code",
   "execution_count": 47,
   "id": "9dc891c8",
   "metadata": {},
   "outputs": [],
   "source": [
    "cm_svm_rbf = metrics.confusion_matrix(y_test,y_hat_svm_rbf)"
   ]
  },
  {
   "cell_type": "code",
   "execution_count": 48,
   "id": "170648aa",
   "metadata": {},
   "outputs": [
    {
     "data": {
      "text/plain": [
       "Text(51.0, 0.5, 'Actual')"
      ]
     },
     "execution_count": 48,
     "metadata": {},
     "output_type": "execute_result"
    },
    {
     "data": {
      "image/png": "[encoded data removed]",
      "text/plain": [
       "<Figure size 576x432 with 2 Axes>"
      ]
     },
     "metadata": {
      "needs_background": "light"
     },
     "output_type": "display_data"
    }
   ],
   "source": [
    "plt.figure(figsize=(8,6))\n",
    "sns.heatmap(cm_svm_rbf,annot=True,fmt='d')\n",
    "plt.xlabel('Predicted')\n",
    "plt.ylabel('Actual')"
   ]
  },
  {
   "cell_type": "code",
   "execution_count": 49,
   "id": "5858b9c3",
   "metadata": {},
   "outputs": [
    {
     "data": {
      "text/plain": [
       "SVC(kernel='sigmoid')"
      ]
     },
     "execution_count": 49,
     "metadata": {},
     "output_type": "execute_result"
    }
   ],
   "source": [
    "svm_sigmoid = SVC(kernel=\"sigmoid\")\n",
    "svm_sigmoid.fit(x_train,y_train)"
   ]
  },
  {
   "cell_type": "code",
   "execution_count": 50,
   "id": "0cd7cf52",
   "metadata": {},
   "outputs": [],
   "source": [
    "y_hat_svm_sigmoid = svm_sigmoid.predict(x_test)\n",
    "#y_hat_svm_sigmoid"
   ]
  },
  {
   "cell_type": "code",
   "execution_count": 51,
   "id": "547d8354",
   "metadata": {},
   "outputs": [],
   "source": [
    "cm_svm_sigmoid = metrics.confusion_matrix(y_test,y_hat_svm_sigmoid)"
   ]
  },
  {
   "cell_type": "code",
   "execution_count": 52,
   "id": "dcbc2262",
   "metadata": {},
   "outputs": [
    {
     "data": {
      "text/plain": [
       "Text(51.0, 0.5, 'Actual')"
      ]
     },
     "execution_count": 52,
     "metadata": {},
     "output_type": "execute_result"
    },
    {
     "data": {
      "image/png": "[encoded data removed]",
      "text/plain": [
       "<Figure size 576x432 with 2 Axes>"
      ]
     },
     "metadata": {
      "needs_background": "light"
     },
     "output_type": "display_data"
    }
   ],
   "source": [
    "plt.figure(figsize=(8,6))\n",
    "sns.heatmap(cm_svm_sigmoid,annot=True,fmt='d')\n",
    "plt.xlabel('Predicted')\n",
    "plt.ylabel('Actual')"
   ]
  },
  {
   "cell_type": "markdown",
   "id": "e912e52f",
   "metadata": {},
   "source": [
    "The confusion matrix obtained using Gaussian kernel function performs better than using polynomial kernel function and sigmoid kernel. Therefore, in the constructed SVM model, we choose the model whose kernel function is Gaussian kernel function."
   ]
  },
  {
   "cell_type": "code",
   "execution_count": 53,
   "id": "92d436f9",
   "metadata": {},
   "outputs": [],
   "source": [
    "TP_cm_svm = int(cm_svm[1,1])\n",
    "FP_cm_svm = int(cm_svm[0,1])\n",
    "FN_cm_svm = int(cm_svm[1,0])\n",
    "TN_cm_svm = int(cm_svm[0,0])"
   ]
  },
  {
   "cell_type": "code",
   "execution_count": 54,
   "id": "fa91f3b7",
   "metadata": {},
   "outputs": [
    {
     "name": "stdout",
     "output_type": "stream",
     "text": [
      "Accuracy of SVM: 92.7%\n"
     ]
    }
   ],
   "source": [
    "# Accuracy\n",
    "acc_svm = (TP_cm_svm+TN_cm_svm)/(TP_cm_svm+FP_cm_svm+FN_cm_svm+TN_cm_svm)\n",
    "print(f\"Accuracy of SVM: {round(acc_svm*100, 1)}%\")"
   ]
  },
  {
   "cell_type": "code",
   "execution_count": 55,
   "id": "effee5f3",
   "metadata": {},
   "outputs": [
    {
     "name": "stdout",
     "output_type": "stream",
     "text": [
      "Precision of SVM: 100.0%\n"
     ]
    }
   ],
   "source": [
    "# Precision\n",
    "prec_svm = TP_cm_svm/(TP_cm_svm+FP_cm_svm)\n",
    "print(f\"Precision of SVM: {round(prec_svm*100, 1)}%\")"
   ]
  },
  {
   "cell_type": "code",
   "execution_count": 56,
   "id": "6997a348",
   "metadata": {},
   "outputs": [
    {
     "name": "stdout",
     "output_type": "stream",
     "text": [
      "Recall(Sensitivity) of SVM: 73.1%\n"
     ]
    }
   ],
   "source": [
    "# Recall(sensitivity)\n",
    "sens_svm = TP_cm_svm/(TP_cm_svm+FN_cm_svm)\n",
    "print(f\"Recall(Sensitivity) of SVM: {round(sens_svm*100, 1)}%\")"
   ]
  },
  {
   "cell_type": "code",
   "execution_count": 57,
   "id": "3a618790",
   "metadata": {},
   "outputs": [
    {
     "name": "stdout",
     "output_type": "stream",
     "text": [
      "Specificity of SVM: 100.0%\n"
     ]
    }
   ],
   "source": [
    "# Specificity\n",
    "spec_svm = TN_cm_svm/(TN_cm_svm+FP_cm_svm)\n",
    "print(f\"Specificity of SVM: {round(spec_svm*100, 1)}%\")"
   ]
  },
  {
   "cell_type": "code",
   "execution_count": 58,
   "id": "826917ff",
   "metadata": {},
   "outputs": [
    {
     "name": "stdout",
     "output_type": "stream",
     "text": [
      "F1 Score of SVM: 84.4%\n"
     ]
    }
   ],
   "source": [
    "f1_svm = 2*prec_svm*sens_svm/(prec_svm+sens_svm)\n",
    "print(f\"F1 Score of SVM: {round(f1_svm*100, 1)}%\")"
   ]
  },
  {
   "cell_type": "markdown",
   "id": "8a5e1fd6",
   "metadata": {},
   "source": [
    "### Conclusion"
   ]
  },
  {
   "cell_type": "markdown",
   "id": "2d0a969e",
   "metadata": {},
   "source": [
    "Comparing the performance indicators of the four models, the indicator values of Accuracy, Precision, Recall (sensitivity), Specificity and F1 Score of the logistic regression model are all relatively largest. Therefore, the best performing model is logistic regression."
   ]
  },
  {
   "cell_type": "code",
   "execution_count": null,
   "id": "266e68b8",
   "metadata": {},
   "outputs": [],
   "source": []
  }
 ],
 "metadata": {
  "kernelspec": {
   "display_name": "Python 3 (ipykernel)",
   "language": "python",
   "name": "python3"
  },
  "language_info": {
   "codemirror_mode": {
    "name": "ipython",
    "version": 3
   },
   "file_extension": ".py",
   "mimetype": "text/x-python",
   "name": "python",
   "nbconvert_exporter": "python",
   "pygments_lexer": "ipython3",
   "version": "3.10.11"
  }
 },
 "nbformat": 4,
 "nbformat_minor": 5
}
